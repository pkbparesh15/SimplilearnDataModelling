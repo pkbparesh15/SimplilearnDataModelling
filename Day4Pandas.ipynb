{
  "metadata": {
    "language_info": {
      "codemirror_mode": {
        "name": "python",
        "version": 3
      },
      "file_extension": ".py",
      "mimetype": "text/x-python",
      "name": "python",
      "nbconvert_exporter": "python",
      "pygments_lexer": "ipython3",
      "version": "3.8"
    },
    "kernelspec": {
      "name": "python",
      "display_name": "Python (Pyodide)",
      "language": "python"
    }
  },
  "nbformat_minor": 4,
  "nbformat": 4,
  "cells": [
    {
      "cell_type": "code",
      "source": "# Step 1: Read the \"police.csv\" file in pandas\nimport pandas as pd\ndf = pd.read_csv('police.csv')",
      "metadata": {
        "trusted": true
      },
      "execution_count": 1,
      "outputs": []
    },
    {
      "cell_type": "code",
      "source": "# Step 2: Detect columns with missing values\nmissing_columns = df.columns[df.isnull().any()]\nprint(\"Columns with missing values:\", missing_columns)",
      "metadata": {
        "trusted": true
      },
      "execution_count": 2,
      "outputs": [
        {
          "name": "stdout",
          "text": "Columns with missing values: Index(['county_name', 'driver_gender', 'driver_age_raw', 'driver_age',\n       'driver_race', 'violation_raw', 'violation', 'search_type',\n       'stop_outcome', 'is_arrested', 'stop_duration'],\n      dtype='object')\n",
          "output_type": "stream"
        }
      ]
    },
    {
      "cell_type": "code",
      "source": "# Step 3: Find the number of missing values column-wise\nmissing_values_count = df.isnull().sum()\nprint(\"Number of missing values column-wise:\\n\", missing_values_count)",
      "metadata": {
        "trusted": true
      },
      "execution_count": 3,
      "outputs": [
        {
          "name": "stdout",
          "text": "Number of missing values column-wise:\n stop_date                 0\nstop_time                 0\ncounty_name           91741\ndriver_gender          5335\ndriver_age_raw         5327\ndriver_age             5621\ndriver_race            5333\nviolation_raw          5333\nviolation              5333\nsearch_conducted          0\nsearch_type           88545\nstop_outcome           5333\nis_arrested            5333\nstop_duration          5333\ndrugs_related_stop        0\ndtype: int64\n",
          "output_type": "stream"
        }
      ]
    },
    {
      "cell_type": "code",
      "source": "# Step 4: Find any duplicate records\nduplicate_records = df[df.duplicated()]\nprint(\"Duplicate records:\\n\", duplicate_records)",
      "metadata": {
        "trusted": true
      },
      "execution_count": 4,
      "outputs": [
        {
          "name": "stdout",
          "text": "Duplicate records:\n         stop_date stop_time  county_name driver_gender  driver_age_raw  \\\n16     2005-07-19     00:30          NaN             M          1982.0   \n104    2005-10-03     13:26          NaN             M          1975.0   \n117    2005-10-04     00:36          NaN             M          1961.0   \n149    2005-10-05     10:00          NaN             M          1981.0   \n239    2005-10-08     12:30          NaN             M          1978.0   \n...           ...       ...          ...           ...             ...   \n89720  2015-10-03     22:59          NaN             F          1968.0   \n89873  2015-10-10     08:06          NaN           NaN             NaN   \n90047  2015-10-16     20:37          NaN             F          1986.0   \n90136  2015-10-20     11:47          NaN             M          1971.0   \n90583  2015-11-05     03:14          NaN             M          1947.0   \n\n       driver_age driver_race                   violation_raw  \\\n16           23.0       White                        Speeding   \n104          30.0       Black                        Speeding   \n117          44.0       White  Special Detail/Directed Patrol   \n149          24.0       White                        Speeding   \n239          27.0       White  Equipment/Inspection Violation   \n...           ...         ...                             ...   \n89720        47.0       White                        Speeding   \n89873         NaN         NaN                             NaN   \n90047        29.0       White         Other Traffic Violation   \n90136        44.0       White  Equipment/Inspection Violation   \n90583        68.0       White                        Speeding   \n\n              violation  search_conducted search_type   stop_outcome  \\\n16             Speeding             False         NaN       Citation   \n104            Speeding             False         NaN  Arrest Driver   \n117               Other             False         NaN  Arrest Driver   \n149            Speeding             False         NaN       Citation   \n239           Equipment             False         NaN       Citation   \n...                 ...               ...         ...            ...   \n89720          Speeding             False         NaN       Citation   \n89873               NaN             False         NaN            NaN   \n90047  Moving violation             False         NaN       Citation   \n90136         Equipment             False         NaN       Citation   \n90583          Speeding             False         NaN       Citation   \n\n      is_arrested stop_duration  drugs_related_stop  \n16          False      0-15 Min               False  \n104          True       30+ Min               False  \n117          True       30+ Min               False  \n149         False      0-15 Min               False  \n239         False      0-15 Min               False  \n...           ...           ...                 ...  \n89720       False      0-15 Min               False  \n89873         NaN           NaN               False  \n90047       False     16-30 Min               False  \n90136       False     16-30 Min               False  \n90583       False      0-15 Min               False  \n\n[479 rows x 15 columns]\n",
          "output_type": "stream"
        }
      ]
    },
    {
      "cell_type": "code",
      "source": "# Step 5: Remove duplicate records\ndf = df.drop_duplicates()",
      "metadata": {
        "trusted": true
      },
      "execution_count": 5,
      "outputs": []
    },
    {
      "cell_type": "code",
      "source": "print(df.head(20))",
      "metadata": {
        "trusted": true
      },
      "execution_count": 6,
      "outputs": [
        {
          "name": "stdout",
          "text": "     stop_date stop_time  county_name driver_gender  driver_age_raw  \\\n0   2005-01-02     01:55          NaN             M          1985.0   \n1   2005-01-18     08:15          NaN             M          1965.0   \n2   2005-01-23     23:15          NaN             M          1972.0   \n3   2005-02-20     17:15          NaN             M          1986.0   \n4   2005-03-14     10:00          NaN             F          1984.0   \n5   2005-03-23     09:45          NaN             M          1982.0   \n6   2005-04-01     17:30          NaN             M          1969.0   \n7   2005-06-06     13:20          NaN             F          1986.0   \n8   2005-07-13     10:15          NaN             M          1970.0   \n9   2005-07-13     15:45          NaN             M          1970.0   \n10  2005-07-13     16:20          NaN             M          1979.0   \n11  2005-07-13     19:00          NaN             F          1966.0   \n12  2005-07-14     19:55          NaN             M          1979.0   \n13  2005-07-18     19:30          NaN             F          1984.0   \n14  2005-07-18     19:45          NaN             M          1969.0   \n15  2005-07-19     00:30          NaN             M          1982.0   \n17  2005-07-19     23:30          NaN             M          1979.0   \n18  2005-07-20     00:05          NaN             M          1955.0   \n19  2005-07-24     20:10          NaN             F          1958.0   \n20  2005-07-28     12:37          NaN             F          1979.0   \n\n    driver_age driver_race                   violation_raw  violation  \\\n0         20.0       White                        Speeding   Speeding   \n1         40.0       White                        Speeding   Speeding   \n2         33.0       White                        Speeding   Speeding   \n3         19.0       White                Call for Service      Other   \n4         21.0       White                        Speeding   Speeding   \n5         23.0       Black  Equipment/Inspection Violation  Equipment   \n6         36.0       White                        Speeding   Speeding   \n7         19.0       White                        Speeding   Speeding   \n8         35.0       Black                        Speeding   Speeding   \n9         35.0       White                        Speeding   Speeding   \n10        26.0       Asian                        Speeding   Speeding   \n11        39.0       White                        Speeding   Speeding   \n12        26.0       White                        Speeding   Speeding   \n13        21.0       White                        Speeding   Speeding   \n14        36.0       White                        Speeding   Speeding   \n15        23.0       White                        Speeding   Speeding   \n17        26.0       White  Equipment/Inspection Violation  Equipment   \n18        50.0       White                        Speeding   Speeding   \n19        47.0       White                        Speeding   Speeding   \n20        26.0       Asian                        Speeding   Speeding   \n\n    search_conducted search_type   stop_outcome is_arrested stop_duration  \\\n0              False         NaN       Citation       False      0-15 Min   \n1              False         NaN       Citation       False      0-15 Min   \n2              False         NaN       Citation       False      0-15 Min   \n3              False         NaN  Arrest Driver        True     16-30 Min   \n4              False         NaN       Citation       False      0-15 Min   \n5              False         NaN       Citation       False      0-15 Min   \n6              False         NaN       Citation       False      0-15 Min   \n7              False         NaN       Citation       False      0-15 Min   \n8              False         NaN       Citation       False      0-15 Min   \n9              False         NaN       Citation       False      0-15 Min   \n10             False         NaN       Citation       False      0-15 Min   \n11             False         NaN       Citation       False      0-15 Min   \n12             False         NaN       Citation       False      0-15 Min   \n13             False         NaN       Citation       False      0-15 Min   \n14             False         NaN       Citation       False      0-15 Min   \n15             False         NaN       Citation       False      0-15 Min   \n17             False         NaN       Citation       False      0-15 Min   \n18             False         NaN       Citation       False      0-15 Min   \n19             False         NaN       Citation       False      0-15 Min   \n20             False         NaN       Citation       False      0-15 Min   \n\n    drugs_related_stop  \n0                False  \n1                False  \n2                False  \n3                False  \n4                False  \n5                False  \n6                False  \n7                False  \n8                False  \n9                False  \n10               False  \n11               False  \n12               False  \n13               False  \n14               False  \n15               False  \n17               False  \n18               False  \n19               False  \n20               False  \n",
          "output_type": "stream"
        }
      ]
    },
    {
      "cell_type": "code",
      "source": "# Step 6: Clean \"stop_duration\" column by removing \"Min\"\ndf['stop_duration'] = df['stop_duration'].str.replace('Min', '')",
      "metadata": {
        "trusted": true
      },
      "execution_count": 7,
      "outputs": []
    },
    {
      "cell_type": "code",
      "source": "print(df['stop_duration'].head())",
      "metadata": {
        "trusted": true
      },
      "execution_count": 8,
      "outputs": [
        {
          "name": "stdout",
          "text": "0     0-15 \n1     0-15 \n2     0-15 \n3    16-30 \n4     0-15 \nName: stop_duration, dtype: object\n",
          "output_type": "stream"
        }
      ]
    },
    {
      "cell_type": "code",
      "source": "# Step 7: Find unique values of each column\nunique_values = df.nunique()\nprint(\"Unique values in each column:\\n\", unique_values)",
      "metadata": {
        "trusted": true
      },
      "execution_count": 9,
      "outputs": [
        {
          "name": "stdout",
          "text": "Unique values in each column:\n stop_date             3768\nstop_time             1436\ncounty_name              0\ndriver_gender            2\ndriver_age_raw          97\ndriver_age              78\ndriver_race              5\nviolation_raw           12\nviolation                6\nsearch_conducted         2\nsearch_type             24\nstop_outcome             6\nis_arrested              2\nstop_duration            5\ndrugs_related_stop       2\ndtype: int64\n",
          "output_type": "stream"
        }
      ]
    },
    {
      "cell_type": "code",
      "source": "# Step 8: Sort the DataFrame by \"stop_time\"\ndf_sorted_by_stop_time = df.sort_values(by='stop_time')",
      "metadata": {
        "trusted": true
      },
      "execution_count": 10,
      "outputs": []
    },
    {
      "cell_type": "code",
      "source": "print(df_sorted_by_stop_time.head())",
      "metadata": {
        "trusted": true
      },
      "execution_count": 11,
      "outputs": [
        {
          "name": "stdout",
          "text": "       stop_date stop_time  county_name driver_gender  driver_age_raw  \\\n377   2005-10-16     00:00          NaN             M          1981.0   \n6912  2006-05-28     00:00          NaN           NaN             NaN   \n6911  2006-05-28     00:00          NaN             M          1988.0   \n2350  2005-12-22     00:00          NaN             F          1979.0   \n4553  2006-03-09     00:00          NaN             M          1969.0   \n\n      driver_age driver_race                   violation_raw  violation  \\\n377         24.0       Black                        Speeding   Speeding   \n6912         NaN         NaN                             NaN        NaN   \n6911        18.0       Black                        Speeding   Speeding   \n2350        26.0       Asian                        Speeding   Speeding   \n4553        37.0       White  Equipment/Inspection Violation  Equipment   \n\n      search_conducted           search_type stop_outcome is_arrested  \\\n377               True  Reasonable Suspicion     Citation       False   \n6912             False                   NaN          NaN         NaN   \n6911             False                   NaN     Citation       False   \n2350             False                   NaN     Citation       False   \n4553             False                   NaN     Citation       False   \n\n     stop_duration  drugs_related_stop  \n377         16-30                False  \n6912           NaN               False  \n6911         0-15                False  \n2350         0-15                False  \n4553         0-15                False  \n",
          "output_type": "stream"
        }
      ]
    },
    {
      "cell_type": "code",
      "source": "# Step 9: Sort the DataFrame by \"stop_time\" and \"driver_age\"\ndf_sorted_by_stop_time_and_age = df.sort_values(by=['stop_time', 'driver_age'])",
      "metadata": {
        "trusted": true
      },
      "execution_count": 12,
      "outputs": []
    },
    {
      "cell_type": "code",
      "source": "print(df_sorted_by_stop_time_and_age.head())",
      "metadata": {
        "trusted": true
      },
      "execution_count": 13,
      "outputs": [
        {
          "name": "stdout",
          "text": "        stop_date stop_time  county_name driver_gender  driver_age_raw  \\\n40     2005-10-01     00:00          NaN             M          1988.0   \n41     2005-10-01     00:00          NaN             M          1988.0   \n1865   2005-12-03     00:00          NaN             M          1988.0   \n7576   2006-06-18     00:00          NaN             M          1989.0   \n73853  2013-12-30     00:00          NaN             F          1996.0   \n\n       driver_age driver_race                   violation_raw  violation  \\\n40           17.0       White  Equipment/Inspection Violation  Equipment   \n41           17.0       White  Equipment/Inspection Violation  Equipment   \n1865         17.0       White                        Speeding   Speeding   \n7576         17.0       White                        Speeding   Speeding   \n73853        17.0       White                        Speeding   Speeding   \n\n       search_conducted     search_type   stop_outcome is_arrested  \\\n40                 True  Probable Cause  Arrest Driver        True   \n41                 True  Probable Cause       Citation       False   \n1865              False             NaN       Citation       False   \n7576              False             NaN       Citation       False   \n73853             False             NaN       Citation       False   \n\n      stop_duration  drugs_related_stop  \n40           16-30                 True  \n41             30+                 True  \n1865          0-15                False  \n7576         16-30                False  \n73853         0-15                False  \n",
          "output_type": "stream"
        }
      ]
    },
    {
      "cell_type": "code",
      "source": "# Step 10: Find max and min \"driver_age\"\nmax_driver_age = df['driver_age'].max()\nmin_driver_age = df['driver_age'].min()\nprint(\"Max driver_age:\", max_driver_age)\nprint(\"Min driver_age:\", min_driver_age)",
      "metadata": {
        "trusted": true
      },
      "execution_count": 14,
      "outputs": [
        {
          "name": "stdout",
          "text": "Max driver_age: 99.0\nMin driver_age: 15.0\n",
          "output_type": "stream"
        }
      ]
    },
    {
      "cell_type": "code",
      "source": "",
      "metadata": {},
      "execution_count": null,
      "outputs": []
    }
  ]
}