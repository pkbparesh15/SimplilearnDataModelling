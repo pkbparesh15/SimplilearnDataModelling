{
  "metadata": {
    "language_info": {
      "codemirror_mode": {
        "name": "python",
        "version": 3
      },
      "file_extension": ".py",
      "mimetype": "text/x-python",
      "name": "python",
      "nbconvert_exporter": "python",
      "pygments_lexer": "ipython3",
      "version": "3.8"
    },
    "kernelspec": {
      "name": "python",
      "display_name": "Python (Pyodide)",
      "language": "python"
    }
  },
  "nbformat_minor": 4,
  "nbformat": 4,
  "cells": [
    {
      "cell_type": "code",
      "source": "def get_name_info(names):\n    name_info = []\n    for name in names:\n        Cname = name.upper()\n        nameLength = len(name)\n        name_info.append((Cname, nameLength))\n    return name_info\n\nnames_list = [\"Alice\", \"Bob\", \"Charlie\"]\nresult = get_name_info(names_list)\nprint(result)\n",
      "metadata": {
        "trusted": true
      },
      "execution_count": 1,
      "outputs": [
        {
          "name": "stdout",
          "text": "[('ALICE', 5), ('BOB', 3), ('CHARLIE', 7)]\n",
          "output_type": "stream"
        }
      ]
    },
    {
      "cell_type": "code",
      "source": "def extract_numbers(sentence):\n    numbers = []\n    current_number = \"\"\n\n    for char in sentence:\n        if char.isdigit():\n            current_number += char\n        elif current_number:\n            numbers.append(int(current_number))\n            current_number = \"\"\n\n    if current_number:\n        numbers.append(int(current_number))\n\n    return numbers\n\nsentence = \"In 1984 there were 13 instances of a protest with over 1000 people attending\"\nnumbers_found = extract_numbers(sentence)\nprint(numbers_found)\n",
      "metadata": {
        "trusted": true
      },
      "execution_count": 2,
      "outputs": [
        {
          "name": "stdout",
          "text": "[1984, 13, 1000]\n",
          "output_type": "stream"
        }
      ]
    },
    {
      "cell_type": "code",
      "source": "",
      "metadata": {},
      "execution_count": null,
      "outputs": []
    }
  ]
}