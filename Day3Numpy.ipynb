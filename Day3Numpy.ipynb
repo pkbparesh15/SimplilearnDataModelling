{
  "metadata": {
    "language_info": {
      "codemirror_mode": {
        "name": "python",
        "version": 3
      },
      "file_extension": ".py",
      "mimetype": "text/x-python",
      "name": "python",
      "nbconvert_exporter": "python",
      "pygments_lexer": "ipython3",
      "version": "3.8"
    },
    "kernelspec": {
      "name": "python",
      "display_name": "Python (Pyodide)",
      "language": "python"
    }
  },
  "nbformat_minor": 4,
  "nbformat": 4,
  "cells": [
    {
      "cell_type": "code",
      "source": "#Create a null vector of size 10 but the fifth value which is 1\nimport numpy as np\n\nnull_vector = np.zeros(10)\n\nnull_vector[4] = 1\n\nprint(null_vector)\n",
      "metadata": {
        "trusted": true
      },
      "execution_count": 1,
      "outputs": [
        {
          "name": "stdout",
          "text": "[0. 0. 0. 0. 1. 0. 0. 0. 0. 0.]\n",
          "output_type": "stream"
        }
      ]
    },
    {
      "cell_type": "code",
      "source": "#Create a vector with values ranging from 10 to 49\nimport numpy as np\n\nvector = np.arange(10, 50)\n\nprint(vector)\n",
      "metadata": {
        "trusted": true
      },
      "execution_count": 2,
      "outputs": [
        {
          "name": "stdout",
          "text": "[10 11 12 13 14 15 16 17 18 19 20 21 22 23 24 25 26 27 28 29 30 31 32 33\n 34 35 36 37 38 39 40 41 42 43 44 45 46 47 48 49]\n",
          "output_type": "stream"
        }
      ]
    },
    {
      "cell_type": "code",
      "source": "#Reverse a vector\nimport numpy as np\n\nvector = np.array([1, 2, 3, 4, 5])\n\nreversed_vector = vector[::-1]\n\nprint(\"Original vector:\", vector)\nprint(\"Reversed vector:\", reversed_vector)\n",
      "metadata": {
        "trusted": true
      },
      "execution_count": 3,
      "outputs": [
        {
          "name": "stdout",
          "text": "Original vector: [1 2 3 4 5]\nReversed vector: [5 4 3 2 1]\n",
          "output_type": "stream"
        }
      ]
    },
    {
      "cell_type": "code",
      "source": "#Create a 3x3 matrix with values ranging from 0 to 8\nimport numpy as np\n\nmatrix = np.arange(9).reshape(3, 3)\n\nprint(matrix)\n",
      "metadata": {
        "trusted": true
      },
      "execution_count": 4,
      "outputs": [
        {
          "name": "stdout",
          "text": "[[0 1 2]\n [3 4 5]\n [6 7 8]]\n",
          "output_type": "stream"
        }
      ]
    },
    {
      "cell_type": "code",
      "source": "#Find indices of non-zero elements from [1,2,0,0,4,0]\nimport numpy as np\n\narr = np.array([1, 2, 0, 0, 4, 0])\nnon_zero_indices = np.nonzero(arr)\n\nprint(non_zero_indices)\n",
      "metadata": {
        "trusted": true
      },
      "execution_count": 5,
      "outputs": [
        {
          "name": "stdout",
          "text": "(array([0, 1, 4], dtype=int32),)\n",
          "output_type": "stream"
        }
      ]
    },
    {
      "cell_type": "code",
      "source": "#Create a 3x3x3 array with random values\nimport numpy as np\n\nrandom_array = np.random.rand(3, 3, 3)\n\nprint(random_array)\n",
      "metadata": {
        "trusted": true
      },
      "execution_count": 6,
      "outputs": [
        {
          "name": "stdout",
          "text": "[[[0.60828939 0.3070207  0.31900073]\n  [0.24471968 0.8053685  0.4699416 ]\n  [0.03481102 0.5521471  0.97881527]]\n\n [[0.62138665 0.77952604 0.1202525 ]\n  [0.43165146 0.80185671 0.04564249]\n  [0.72404355 0.12696697 0.40731649]]\n\n [[0.07968503 0.07618812 0.25705229]\n  [0.79851779 0.68027105 0.85592057]\n  [0.41224922 0.76022443 0.47849429]]]\n",
          "output_type": "stream"
        }
      ]
    },
    {
      "cell_type": "code",
      "source": "#Create a 10x10 array with random values and find the minimum and maximum values\nimport numpy as np\n\nrandom_array = np.random.rand(10, 10)\n\nmin_value = np.min(random_array)\nmax_value = np.max(random_array)\n\nprint(\"Random Array:\")\nprint(random_array)\nprint(\"\\nMinimum Value:\", min_value)\nprint(\"Maximum Value:\", max_value)\n",
      "metadata": {
        "trusted": true
      },
      "execution_count": 7,
      "outputs": [
        {
          "name": "stdout",
          "text": "Random Array:\n[[0.26036888 0.31997801 0.72433813 0.80619135 0.242479   0.55891898\n  0.66909752 0.09709439 0.9948891  0.22061805]\n [0.15104232 0.08949768 0.02634956 0.84442308 0.99927217 0.32221766\n  0.72613746 0.4225548  0.36167922 0.37114418]\n [0.31158059 0.29849566 0.21648751 0.86982329 0.37321051 0.72534979\n  0.03750186 0.02214876 0.43998477 0.72709311]\n [0.7512096  0.96488512 0.88914181 0.82863021 0.85230494 0.56314528\n  0.12096165 0.35187926 0.64102001 0.22482803]\n [0.97351937 0.96324424 0.73759638 0.09315506 0.30829298 0.73761139\n  0.55515018 0.99193064 0.03518075 0.35640529]\n [0.43968753 0.11474391 0.82848296 0.98702405 0.60614394 0.64894657\n  0.49628545 0.54248285 0.07301535 0.18893971]\n [0.32781019 0.61685365 0.8953042  0.99525368 0.16246416 0.09723824\n  0.79497156 0.23908057 0.37896104 0.71617629]\n [0.11095149 0.62781289 0.85408906 0.8541371  0.05756764 0.70151289\n  0.91760992 0.38113308 0.36294205 0.08973024]\n [0.91760008 0.45447931 0.75363426 0.26771259 0.45570178 0.54819795\n  0.20029312 0.15622422 0.68304721 0.70342974]\n [0.05301049 0.72054809 0.24962827 0.10647967 0.75406709 0.14982039\n  0.66352613 0.43933286 0.99124399 0.26184067]]\n\nMinimum Value: 0.02214876321934245\nMaximum Value: 0.9992721670647042\n",
          "output_type": "stream"
        }
      ]
    },
    {
      "cell_type": "code",
      "source": "#Create a 2d array with 1 on the border and 0 inside\nimport numpy as np\n\nrows = 5\ncols = 5\n\narray = np.zeros((rows, cols))\n\n# Set the border elements to 1\narray[0, :] = 1  # Top row\narray[-1, :] = 1  # Bottom row\narray[:, 0] = 1  # Leftmost column\narray[:, -1] = 1  # Rightmost column\n\nprint(array)\n",
      "metadata": {
        "trusted": true
      },
      "execution_count": 8,
      "outputs": [
        {
          "name": "stdout",
          "text": "[[1. 1. 1. 1. 1.]\n [1. 0. 0. 0. 1.]\n [1. 0. 0. 0. 1.]\n [1. 0. 0. 0. 1.]\n [1. 1. 1. 1. 1.]]\n",
          "output_type": "stream"
        }
      ]
    },
    {
      "cell_type": "code",
      "source": "",
      "metadata": {},
      "execution_count": null,
      "outputs": []
    }
  ]
}